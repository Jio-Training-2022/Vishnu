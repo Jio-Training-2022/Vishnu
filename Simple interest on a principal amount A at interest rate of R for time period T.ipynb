{
 "cells": [
  {
   "cell_type": "code",
   "execution_count": 1,
   "id": "3295328f",
   "metadata": {},
   "outputs": [
    {
     "name": "stdout",
     "output_type": "stream",
     "text": [
      "Enter the Principle Amount: 100\n",
      "Enter the Interest rate: 2\n",
      "Enter the Time Period: 1\n",
      "2.0\n"
     ]
    }
   ],
   "source": [
    "Principle= input(\"Enter the Principle Amount: \")\n",
    "A=int(Principle)\n",
    "Interest= input(\"Enter the Interest rate: \")\n",
    "I=int(Interest)\n",
    "Time=input(\"Enter the Time Period: \")\n",
    "T=int(Time)\n",
    "SI=(A*I*T)/100\n",
    "print(SI)"
   ]
  },
  {
   "cell_type": "code",
   "execution_count": null,
   "id": "478fd57e",
   "metadata": {},
   "outputs": [],
   "source": []
  }
 ],
 "metadata": {
  "kernelspec": {
   "display_name": "Python 3 (ipykernel)",
   "language": "python",
   "name": "python3"
  },
  "language_info": {
   "codemirror_mode": {
    "name": "ipython",
    "version": 3
   },
   "file_extension": ".py",
   "mimetype": "text/x-python",
   "name": "python",
   "nbconvert_exporter": "python",
   "pygments_lexer": "ipython3",
   "version": "3.9.12"
  }
 },
 "nbformat": 4,
 "nbformat_minor": 5
}
