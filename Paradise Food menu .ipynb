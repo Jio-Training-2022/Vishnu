{
 "cells": [
  {
   "cell_type": "code",
   "execution_count": 1,
   "id": "474edddc",
   "metadata": {},
   "outputs": [
    {
     "name": "stdout",
     "output_type": "stream",
     "text": [
      "SELECT FOOD\n",
      "1: KABAB\n",
      "2: BIRYANI\n",
      "3: DESSERT\n",
      "\n",
      "ENTER YOUR FOOD SELECTION: 3\n",
      "\n",
      "YOU HAVE SELECTED DESSERT\n"
     ]
    }
   ],
   "source": [
    "print(\"SELECT FOOD\")\n",
    "print(\"1: KABAB\")\n",
    "print(\"2: BIRYANI\")\n",
    "print(\"3: DESSERT\")\n",
    "print()\n",
    "p = int(input('ENTER YOUR FOOD SELECTION: '))\n",
    "print()\n",
    "if p == 1:\n",
    "    print('YOU HAVE SELECTED KEBAB')\n",
    "elif p == 2:\n",
    "    print('YOU HAVE SELECTED MAIN COURSE')\n",
    "elif p == 3:\n",
    "    print('YOU HAVE SELECTED DESSERT')\n",
    "else:\n",
    "    print('WRONG ENTRY')"
   ]
  },
  {
   "cell_type": "code",
   "execution_count": null,
   "id": "722ebee4",
   "metadata": {},
   "outputs": [],
   "source": []
  }
 ],
 "metadata": {
  "kernelspec": {
   "display_name": "Python 3 (ipykernel)",
   "language": "python",
   "name": "python3"
  },
  "language_info": {
   "codemirror_mode": {
    "name": "ipython",
    "version": 3
   },
   "file_extension": ".py",
   "mimetype": "text/x-python",
   "name": "python",
   "nbconvert_exporter": "python",
   "pygments_lexer": "ipython3",
   "version": "3.9.12"
  }
 },
 "nbformat": 4,
 "nbformat_minor": 5
}
